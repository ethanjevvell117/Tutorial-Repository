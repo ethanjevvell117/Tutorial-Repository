{
 "cells": [
  {
   "cell_type": "markdown",
   "id": "0127b036-0e04-41ba-baf1-59ada4d49c7d",
   "metadata": {},
   "source": [
    "# My Jupyter Notebook on IBM Watson STudio"
   ]
  },
  {
   "cell_type": "markdown",
   "id": "c1cc1797-b7e0-4ae1-9742-3b0f9723d16e",
   "metadata": {},
   "source": [
    "<b>Ethan Jewell</b> <br>\n",
    "I am currently a journalist in South Korea."
   ]
  },
  {
   "cell_type": "markdown",
   "id": "4ce596e2-bd7e-4566-9acf-2559294148bf",
   "metadata": {},
   "source": [
    "<i>I would like to improve my data science skills to become create more interesting and innovative coverage.</i>"
   ]
  },
  {
   "cell_type": "markdown",
   "id": "9806654e-4dea-44f8-b63d-f1c15e3d0ad0",
   "metadata": {},
   "source": [
    "### The following code checks if a number is even or odd and returns \"odd\" or \"even\"."
   ]
  },
  {
   "cell_type": "code",
   "execution_count": 1,
   "id": "20401ddb-9346-4c65-b96b-6bd3647a7f24",
   "metadata": {},
   "outputs": [
    {
     "name": "stdout",
     "output_type": "stream",
     "text": [
      "5 is odd.\n"
     ]
    }
   ],
   "source": [
    "def isEven(x):\n",
    "    if(x % 2 == 1):\n",
    "        print(str(x) + ' is odd.')\n",
    "    else:\n",
    "        print(str(x) + ' is even')\n",
    "\n",
    "isEven(5)"
   ]
  },
  {
   "cell_type": "code",
   "execution_count": 2,
   "id": "1bebacdf-8726-4059-b13d-0d02a7973d96",
   "metadata": {},
   "outputs": [
    {
     "name": "stdout",
     "output_type": "stream",
     "text": [
      "2 is even\n"
     ]
    }
   ],
   "source": [
    "isEven(2)"
   ]
  },
  {
   "cell_type": "code",
   "execution_count": 3,
   "id": "0d8680ec-02ee-4ecf-b965-80a519224432",
   "metadata": {},
   "outputs": [
    {
     "name": "stdout",
     "output_type": "stream",
     "text": [
      "1 is odd.\n"
     ]
    }
   ],
   "source": [
    "isEven(1)"
   ]
  },
  {
   "cell_type": "code",
   "execution_count": 4,
   "id": "6c53e9ab-b852-4e73-bb74-38505a583287",
   "metadata": {},
   "outputs": [
    {
     "name": "stdout",
     "output_type": "stream",
     "text": [
      "0 is even\n"
     ]
    }
   ],
   "source": [
    "isEven(0)"
   ]
  },
  {
   "cell_type": "code",
   "execution_count": 5,
   "id": "d55207e6-b401-46f3-bfa5-37961a4305e3",
   "metadata": {},
   "outputs": [
    {
     "name": "stdout",
     "output_type": "stream",
     "text": [
      "-1 is odd.\n"
     ]
    }
   ],
   "source": [
    "isEven(-1)"
   ]
  },
  {
   "cell_type": "code",
   "execution_count": 6,
   "id": "b6c5c686-cc57-4410-a0ec-b23387f682fb",
   "metadata": {},
   "outputs": [
    {
     "name": "stdout",
     "output_type": "stream",
     "text": [
      "-2 is even\n"
     ]
    }
   ],
   "source": [
    "isEven(-2)"
   ]
  },
  {
   "cell_type": "code",
   "execution_count": null,
   "id": "9e8983d6-c68c-483a-9156-abaca74d61d5",
   "metadata": {},
   "outputs": [],
   "source": []
  }
 ],
 "metadata": {
  "kernelspec": {
   "display_name": "Python 3 (ipykernel)",
   "language": "python",
   "name": "python3"
  },
  "language_info": {
   "codemirror_mode": {
    "name": "ipython",
    "version": 3
   },
   "file_extension": ".py",
   "mimetype": "text/x-python",
   "name": "python",
   "nbconvert_exporter": "python",
   "pygments_lexer": "ipython3",
   "version": "3.10.7"
  }
 },
 "nbformat": 4,
 "nbformat_minor": 5
}
